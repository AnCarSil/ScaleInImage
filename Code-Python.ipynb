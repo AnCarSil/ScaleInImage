{
 "cells": [
  {
   "cell_type": "code",
   "execution_count": 1,
   "id": "e3a9aa65",
   "metadata": {},
   "outputs": [
    {
     "name": "stdout",
     "output_type": "stream",
     "text": [
      "Libraries loaded succesfully\n"
     ]
    }
   ],
   "source": [
    "import os\n",
    "import glob\n",
    "import PIL\n",
    "\n",
    "from PIL import Image\n",
    "print(\"Libraries loaded succesfully\")"
   ]
  },
  {
   "cell_type": "code",
   "execution_count": 11,
   "id": "55d282dc",
   "metadata": {},
   "outputs": [
    {
     "name": "stdout",
     "output_type": "stream",
     "text": [
      "Functions loaded succesfully\n"
     ]
    }
   ],
   "source": [
    "#########################################################################################################################\n",
    "def TransparentBG(datas):\n",
    "    newData = []\n",
    "    for item in datas:\n",
    "        if item[0] == 0 and item[1] == 0 and item[2] == 0:\n",
    "            newData.append((255, 255, 255, 0))\n",
    "        else:\n",
    "            newData.append(item)\n",
    "    return newData\n",
    "#########################################################################################################################\n",
    "\n",
    "print(\"Functions loaded succesfully\")"
   ]
  },
  {
   "cell_type": "code",
   "execution_count": 7,
   "id": "2ad0de0b",
   "metadata": {},
   "outputs": [
    {
     "name": "stdout",
     "output_type": "stream",
     "text": [
      "Scales loaded succesfully\n"
     ]
    }
   ],
   "source": [
    "path_scale = r\"./\"\n",
    "\n",
    "scale_4x = Image.open(os.path.join(path_scale, \"Scale_4x.png\")).convert(\"RGBA\")\n",
    "scale_4x.putdata(TransparentBG(scale_4x.getdata()))\n",
    "\n",
    "scale_10x = Image.open(os.path.join(path_scale, \"Scale_10x.png\")).convert(\"RGBA\")\n",
    "scale_10x.putdata(TransparentBG(scale_10x.getdata()))\n",
    "\n",
    "print(\"Scales loaded succesfully\")"
   ]
  },
  {
   "cell_type": "code",
   "execution_count": 10,
   "id": "ff67854b",
   "metadata": {},
   "outputs": [
    {
     "name": "stdout",
     "output_type": "stream",
     "text": [
      "03.jpg............................................................................................................... Ok\n",
      "Images edited succesfully\n"
     ]
    }
   ],
   "source": [
    "path_images= r\"./images/\"\n",
    "\n",
    "files = glob.glob(os.path.join(path_images, \"*.jpg\").replace(\"\\\\\",\"/\"))\n",
    "\n",
    "for f in files:\n",
    "    print(CompletaString(os.path.basename(f), 117, '.'), end = '') \n",
    "    img = Image.open(f)\n",
    "    img.paste(scale_10x, (0,0), scale_10x)\n",
    "    img.save(f)\n",
    "    print(\"Ok\")\n",
    "\n",
    "print(\"Images edited succesfully\")"
   ]
  },
  {
   "cell_type": "code",
   "execution_count": null,
   "id": "ac32e33e",
   "metadata": {},
   "outputs": [],
   "source": []
  }
 ],
 "metadata": {
  "kernelspec": {
   "display_name": "Python 3",
   "language": "python",
   "name": "python3"
  },
  "language_info": {
   "codemirror_mode": {
    "name": "ipython",
    "version": 3
   },
   "file_extension": ".py",
   "mimetype": "text/x-python",
   "name": "python",
   "nbconvert_exporter": "python",
   "pygments_lexer": "ipython3",
   "version": "3.8.8"
  }
 },
 "nbformat": 4,
 "nbformat_minor": 5
}
